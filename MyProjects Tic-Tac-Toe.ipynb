{
 "cells": [
  {
   "cell_type": "code",
   "execution_count": 1,
   "metadata": {},
   "outputs": [],
   "source": [
    "#Drawing a board\n",
    "from IPython.display import clear_output\n",
    "\n",
    "\n",
    "def display_board(board):\n",
    "    clear_output()\n",
    "    \n",
    "    return print ( \"    |   |\\n  \" + board[7] + \" | \"+board[8]+\" | \"+board[9]+\"\\n    |   |\\n\" \" -----------\\n  \"\"  |   | \\n  \"+ board[4] + \" | \"+ board[5] + \" | \"+ board[6] + \"\\n    |   |\\n\" \" -----------\\n\" \"    |   |\\n  \"+ board[1] + \" | \"+ board[2] + \" | \"+ board[3] + \"\\n    |   |\")"
   ]
  },
  {
   "cell_type": "code",
   "execution_count": 2,
   "metadata": {},
   "outputs": [],
   "source": [
    "#Function that assigns players marker as 'X' or 'O'\n",
    "def player_input():\n",
    "    marker = ''\n",
    "    \n",
    "    while not (marker == 'X' or marker == 'O'):\n",
    "        marker = input('Player 1: Do you want to be X or O? ')\n",
    "\n",
    "    if marker == 'X':\n",
    "        return ('X', 'O')\n",
    "    else:\n",
    "        return ('O', 'X') "
   ]
  },
  {
   "cell_type": "code",
   "execution_count": 3,
   "metadata": {},
   "outputs": [],
   "source": [
    "#Funcion that assaigns players marker to position inputed by user.\n",
    "def place_marker(board, marker, position):\n",
    "    board[position] = marker"
   ]
  },
  {
   "cell_type": "code",
   "execution_count": 4,
   "metadata": {},
   "outputs": [],
   "source": [
    "#Function that checks if one of the users have won\n",
    "def win_check(board,mark):\n",
    "    \n",
    "    return ((board[7] == mark and board[8] == mark and board[9] == mark) or \n",
    "    (board[4] == mark and board[5] == mark and board[6] == mark) or \n",
    "    (board[1] == mark and board[2] == mark and board[3] == mark) or \n",
    "    (board[7] == mark and board[4] == mark and board[1] == mark) or \n",
    "    (board[8] == mark and board[5] == mark and board[2] == mark) or \n",
    "    (board[9] == mark and board[6] == mark and board[3] == mark) or \n",
    "    (board[7] == mark and board[5] == mark and board[3] == mark) or \n",
    "    (board[9] == mark and board[5] == mark and board[1] == mark)) \n",
    "        "
   ]
  },
  {
   "cell_type": "code",
   "execution_count": 5,
   "metadata": {},
   "outputs": [],
   "source": [
    "#Function that randomly decides which player goes first\n",
    "import random\n",
    "\n",
    "def choose_first():\n",
    "    if random.randint(0, 1) == 0:\n",
    "        return 'Player 2'\n",
    "    else:\n",
    "        return 'Player 1'"
   ]
  },
  {
   "cell_type": "code",
   "execution_count": 6,
   "metadata": {},
   "outputs": [],
   "source": [
    "#Function that checsk if the inputed position is free\n",
    "def space_check(board, position):\n",
    "    \n",
    "    return board[position] == ' '"
   ]
  },
  {
   "cell_type": "code",
   "execution_count": 7,
   "metadata": {},
   "outputs": [],
   "source": [
    "#Function that chekcs if the board is full\n",
    "def full_board_check(board):\n",
    "    for i in range(1,10):\n",
    "        if space_check(board, i):\n",
    "            return False\n",
    "    return True"
   ]
  },
  {
   "cell_type": "code",
   "execution_count": 8,
   "metadata": {},
   "outputs": [],
   "source": [
    "#Function that asks for players next position\n",
    "def player_choice(board):\n",
    "    position = 0\n",
    "    \n",
    "    while position not in [1,2,3,4,5,6,7,8,9] or not space_check(board, position) :\n",
    "        while True:\n",
    "            try:\n",
    "                position = int(input('Choose your next position: (1-9) '))\n",
    "            except:\n",
    "                \"You have entered a wrong data type please enter a number\"\n",
    "            else:\n",
    "                break\n",
    "        \n",
    "    return position"
   ]
  },
  {
   "cell_type": "code",
   "execution_count": 9,
   "metadata": {},
   "outputs": [],
   "source": [
    "#Function that replays the game\n",
    "def replay():\n",
    "    anwser = input('Do you want to play again? ')\n",
    "    if anwser == 'yes':\n",
    "        return True"
   ]
  },
  {
   "cell_type": "code",
   "execution_count": null,
   "metadata": {},
   "outputs": [
    {
     "name": "stdout",
     "output_type": "stream",
     "text": [
      "Welcome to Tic Tac Toe!\n"
     ]
    }
   ],
   "source": [
    "#To start the game rerun all the cells including this one at the end\n",
    "print('Welcome to Tic Tac Toe!')\n",
    "\n",
    "while True:\n",
    "    board1 = [\" \"] * 10\n",
    "    player_1_marker, player_2_marker = player_input()\n",
    "    turn = choose_first()\n",
    "    print(turn + ' will go first')\n",
    "    play_game = ' '\n",
    "    while not (play_game =='yes' or play_game =='no'):\n",
    "        play_game = input('Are you ready to play? Enter yes or no.')\n",
    "        if play_game == 'yes':\n",
    "            game_on = True\n",
    "        elif play_game =='no':\n",
    "            game_on = False\n",
    "\n",
    "    while game_on == True:\n",
    "        \n",
    "        if turn == 'Player 1':\n",
    "            \n",
    "            display_board(board1)\n",
    "            position = player_choice(board1)\n",
    "            place_marker(board1, player_1_marker, position)\n",
    "        \n",
    "            if win_check(board1,player_1_marker):\n",
    "                display_board(board1)\n",
    "                print('Congratulations! Player 1 have won the game')\n",
    "                game_on = False\n",
    "            \n",
    "            else:\n",
    "                if full_board_check(board1):\n",
    "                    display_board(board1)\n",
    "                    print('The game is a draw!')\n",
    "                    break\n",
    "                else:\n",
    "                    turn = 'Player 2'\n",
    "                \n",
    "        elif turn == 'Player 2':\n",
    "            display_board(board1)\n",
    "            position = player_choice(board1)\n",
    "            place_marker(board1, player_2_marker, position)\n",
    "            \n",
    "            if win_check(board1, player_2_marker):\n",
    "                display_board(board1)\n",
    "                print('Congratulations! Player 2 have won the game')\n",
    "                game_on = False\n",
    "            \n",
    "           \n",
    "            else:\n",
    "                if full_board_check(board1):\n",
    "                    display_board(board1)\n",
    "                    print('The game is a draw!')\n",
    "                    break\n",
    "                else:\n",
    "                    turn = 'Player 1'\n",
    "                  \n",
    "    if not replay():\n",
    "        break\n",
    "        "
   ]
  },
  {
   "cell_type": "code",
   "execution_count": null,
   "metadata": {},
   "outputs": [],
   "source": []
  }
 ],
 "metadata": {
  "kernelspec": {
   "display_name": "Python 3",
   "language": "python",
   "name": "python3"
  },
  "language_info": {
   "codemirror_mode": {
    "name": "ipython",
    "version": 3
   },
   "file_extension": ".py",
   "mimetype": "text/x-python",
   "name": "python",
   "nbconvert_exporter": "python",
   "pygments_lexer": "ipython3",
   "version": "3.7.0"
  }
 },
 "nbformat": 4,
 "nbformat_minor": 2
}
